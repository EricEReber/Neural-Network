{
 "cells": [
  {
   "cell_type": "markdown",
   "id": "8a0ccb85",
   "metadata": {},
   "source": [
    "* What is a neural network\n",
    "* Simple example (XOR, etc)\n",
    "* Mathematical theory\n",
    "* NN codebase\n",
    "* Larger NN example\n",
    "* Logistic regression fun fact"
   ]
  }
 ],
 "metadata": {
  "kernelspec": {
   "display_name": "Python 3 (ipykernel)",
   "language": "python",
   "name": "python3"
  },
  "language_info": {
   "codemirror_mode": {
    "name": "ipython",
    "version": 3
   },
   "file_extension": ".py",
   "mimetype": "text/x-python",
   "name": "python",
   "nbconvert_exporter": "python",
   "pygments_lexer": "ipython3",
   "version": "3.10.8"
  }
 },
 "nbformat": 4,
 "nbformat_minor": 5
}
